{
  "nbformat": 4,
  "nbformat_minor": 0,
  "metadata": {
    "colab": {
      "provenance": [],
      "collapsed_sections": []
    },
    "kernelspec": {
      "name": "python3",
      "display_name": "Python 3"
    },
    "language_info": {
      "name": "python"
    }
  },
  "cells": [
    {
      "cell_type": "markdown",
      "source": [
        "https://www.dataquest.io/blog/web-scraping-python-using-beautiful-soup/#tve-jump-1788432a71d"
      ],
      "metadata": {
        "id": "n92l5R-iJJ95"
      }
    },
    {
      "cell_type": "code",
      "execution_count": null,
      "metadata": {
        "id": "-ZdbVXwKvUkn"
      },
      "outputs": [],
      "source": [
        "import requests\n",
        "from bs4 import BeautifulSoup\n",
        "import pandas as pd"
      ]
    },
    {
      "cell_type": "code",
      "source": [
        "page = requests.get(\"https://dataquestio.github.io/web-scraping-pages/simple.html\")\n",
        "page"
      ],
      "metadata": {
        "colab": {
          "base_uri": "https://localhost:8080/"
        },
        "id": "bPR9gtuy9yPK",
        "outputId": "0f648206-7d10-40e7-c4b5-b4304f23ccc2"
      },
      "execution_count": null,
      "outputs": [
        {
          "output_type": "execute_result",
          "data": {
            "text/plain": [
              "<Response [200]>"
            ]
          },
          "metadata": {},
          "execution_count": 3
        }
      ]
    },
    {
      "cell_type": "code",
      "source": [
        "page.status_code"
      ],
      "metadata": {
        "colab": {
          "base_uri": "https://localhost:8080/"
        },
        "id": "ttcJXfXg905a",
        "outputId": "5be2a83f-cace-41fa-896b-02f7efc60d1f"
      },
      "execution_count": null,
      "outputs": [
        {
          "output_type": "execute_result",
          "data": {
            "text/plain": [
              "200"
            ]
          },
          "metadata": {},
          "execution_count": 4
        }
      ]
    },
    {
      "cell_type": "code",
      "source": [
        "page.content"
      ],
      "metadata": {
        "colab": {
          "base_uri": "https://localhost:8080/"
        },
        "id": "kxJmYOGK_j2_",
        "outputId": "3c7db473-fc5f-4a94-92ab-4de447ecefcb"
      },
      "execution_count": null,
      "outputs": [
        {
          "output_type": "execute_result",
          "data": {
            "text/plain": [
              "b'<!DOCTYPE html>\\n<html>\\n    <head>\\n        <title>A simple example page</title>\\n    </head>\\n    <body>\\n        <p>Here is some simple content for this page.</p>\\n    </body>\\n</html>'"
            ]
          },
          "metadata": {},
          "execution_count": 5
        }
      ]
    },
    {
      "cell_type": "code",
      "source": [
        "soup = BeautifulSoup(page.content, 'html.parser')"
      ],
      "metadata": {
        "id": "mVxE-2po_orR"
      },
      "execution_count": null,
      "outputs": []
    },
    {
      "cell_type": "code",
      "source": [
        "print(soup.prettify())"
      ],
      "metadata": {
        "colab": {
          "base_uri": "https://localhost:8080/"
        },
        "id": "xwpQ74K1_py4",
        "outputId": "2fbe1d71-bfca-4140-80b1-21e2634cb531"
      },
      "execution_count": null,
      "outputs": [
        {
          "output_type": "stream",
          "name": "stdout",
          "text": [
            "<!DOCTYPE html>\n",
            "<html>\n",
            " <head>\n",
            "  <title>\n",
            "   A simple example page\n",
            "  </title>\n",
            " </head>\n",
            " <body>\n",
            "  <p>\n",
            "   Here is some simple content for this page.\n",
            "  </p>\n",
            " </body>\n",
            "</html>\n"
          ]
        }
      ]
    },
    {
      "cell_type": "code",
      "source": [
        "print(len(list(soup.children)))\n",
        "print(list(soup.children))"
      ],
      "metadata": {
        "colab": {
          "base_uri": "https://localhost:8080/"
        },
        "id": "qDzqxeMT_t6o",
        "outputId": "ed50e1d1-46fe-49fc-a4b8-3d57794e8d9a"
      },
      "execution_count": null,
      "outputs": [
        {
          "output_type": "stream",
          "name": "stdout",
          "text": [
            "3\n",
            "['html', '\\n', <html>\n",
            "<head>\n",
            "<title>A simple example page</title>\n",
            "</head>\n",
            "<body>\n",
            "<p>Here is some simple content for this page.</p>\n",
            "</body>\n",
            "</html>]\n"
          ]
        }
      ]
    },
    {
      "cell_type": "code",
      "source": [
        "[type(item) for item in list(soup.children)]"
      ],
      "metadata": {
        "colab": {
          "base_uri": "https://localhost:8080/"
        },
        "id": "weWINESWAW_I",
        "outputId": "ef56868e-b970-4f02-a1aa-200aefacd8aa"
      },
      "execution_count": null,
      "outputs": [
        {
          "output_type": "execute_result",
          "data": {
            "text/plain": [
              "[bs4.element.Doctype, bs4.element.NavigableString, bs4.element.Tag]"
            ]
          },
          "metadata": {},
          "execution_count": 9
        }
      ]
    },
    {
      "cell_type": "code",
      "source": [
        "html = list(soup.children)[2]"
      ],
      "metadata": {
        "id": "SkBK6dHKAdZf"
      },
      "execution_count": null,
      "outputs": []
    },
    {
      "cell_type": "code",
      "source": [
        "print(len(list(html.children)))\n",
        "print(list(html.children))"
      ],
      "metadata": {
        "colab": {
          "base_uri": "https://localhost:8080/"
        },
        "id": "zxXYUOOxAeSu",
        "outputId": "16b5f524-305b-4ae3-f4e1-1f01a6b99b01"
      },
      "execution_count": null,
      "outputs": [
        {
          "output_type": "stream",
          "name": "stdout",
          "text": [
            "5\n",
            "['\\n', <head>\n",
            "<title>A simple example page</title>\n",
            "</head>, '\\n', <body>\n",
            "<p>Here is some simple content for this page.</p>\n",
            "</body>, '\\n']\n"
          ]
        }
      ]
    },
    {
      "cell_type": "code",
      "source": [
        "body = list(html.children)[3]"
      ],
      "metadata": {
        "id": "N4OZ-_ycAnM2"
      },
      "execution_count": null,
      "outputs": []
    },
    {
      "cell_type": "code",
      "source": [
        "list(body.children)"
      ],
      "metadata": {
        "colab": {
          "base_uri": "https://localhost:8080/"
        },
        "id": "66rl9cvvAorv",
        "outputId": "5b2948ab-250b-415c-cb79-1f114ac995ca"
      },
      "execution_count": null,
      "outputs": [
        {
          "output_type": "execute_result",
          "data": {
            "text/plain": [
              "['\\n', <p>Here is some simple content for this page.</p>, '\\n']"
            ]
          },
          "metadata": {},
          "execution_count": 13
        }
      ]
    },
    {
      "cell_type": "code",
      "source": [
        "p = list(body.children)[1]"
      ],
      "metadata": {
        "id": "P13Kd_aUAqka"
      },
      "execution_count": null,
      "outputs": []
    },
    {
      "cell_type": "code",
      "source": [
        "print(p.get_text())"
      ],
      "metadata": {
        "colab": {
          "base_uri": "https://localhost:8080/"
        },
        "id": "RLtpSiy4Asiw",
        "outputId": "a4a29020-6444-442c-fdce-d9888228a435"
      },
      "execution_count": null,
      "outputs": [
        {
          "output_type": "stream",
          "name": "stdout",
          "text": [
            "Here is some simple content for this page.\n"
          ]
        }
      ]
    },
    {
      "cell_type": "code",
      "source": [
        "soup = BeautifulSoup(page.content, 'html.parser')\n",
        "soup.find_all('p')"
      ],
      "metadata": {
        "colab": {
          "base_uri": "https://localhost:8080/"
        },
        "id": "r95RV8tNAthG",
        "outputId": "eb6eccfb-1fe3-458c-8150-7a55a9f38f50"
      },
      "execution_count": null,
      "outputs": [
        {
          "output_type": "execute_result",
          "data": {
            "text/plain": [
              "[<p>Here is some simple content for this page.</p>]"
            ]
          },
          "metadata": {},
          "execution_count": 16
        }
      ]
    },
    {
      "cell_type": "code",
      "source": [
        "soup.find_all('p')[0].get_text()"
      ],
      "metadata": {
        "colab": {
          "base_uri": "https://localhost:8080/",
          "height": 36
        },
        "id": "7f5Es2kLHy1A",
        "outputId": "6bc9df08-e074-423e-e852-8f8d16701453"
      },
      "execution_count": null,
      "outputs": [
        {
          "output_type": "execute_result",
          "data": {
            "text/plain": [
              "'Here is some simple content for this page.'"
            ],
            "application/vnd.google.colaboratory.intrinsic+json": {
              "type": "string"
            }
          },
          "metadata": {},
          "execution_count": 17
        }
      ]
    },
    {
      "cell_type": "code",
      "source": [
        "soup.find('p')"
      ],
      "metadata": {
        "id": "-991zBUUJGqe",
        "outputId": "aab85074-6042-43dd-8245-64b361d7ed4a",
        "colab": {
          "base_uri": "https://localhost:8080/"
        }
      },
      "execution_count": null,
      "outputs": [
        {
          "output_type": "execute_result",
          "data": {
            "text/plain": [
              "<p>Here is some simple content for this page.</p>"
            ]
          },
          "metadata": {},
          "execution_count": 18
        }
      ]
    },
    {
      "cell_type": "code",
      "source": [
        "page = requests.get(\"https://dataquestio.github.io/web-scraping-pages/ids_and_classes.html\")\n",
        "soup = BeautifulSoup(page.content, 'html.parser')\n",
        "soup"
      ],
      "metadata": {
        "colab": {
          "base_uri": "https://localhost:8080/"
        },
        "id": "X64x3QByJYPf",
        "outputId": "9362a772-c050-4373-903d-58b7c84df3bf"
      },
      "execution_count": null,
      "outputs": [
        {
          "output_type": "execute_result",
          "data": {
            "text/plain": [
              "<html>\n",
              "<head>\n",
              "<title>A simple example page</title>\n",
              "</head>\n",
              "<body>\n",
              "<div>\n",
              "<p class=\"inner-text first-item\" id=\"first\">\n",
              "                First paragraph.\n",
              "            </p>\n",
              "<p class=\"inner-text\">\n",
              "                Second paragraph.\n",
              "            </p>\n",
              "</div>\n",
              "<p class=\"outer-text first-item\" id=\"second\">\n",
              "<b>\n",
              "                First outer paragraph.\n",
              "            </b>\n",
              "</p>\n",
              "<p class=\"outer-text\">\n",
              "<b>\n",
              "                Second outer paragraph.\n",
              "            </b>\n",
              "</p>\n",
              "</body>\n",
              "</html>"
            ]
          },
          "metadata": {},
          "execution_count": 19
        }
      ]
    },
    {
      "cell_type": "code",
      "source": [
        "temp = soup.find_all('p', class_='outer-text')\n",
        "print(temp)\n",
        "print(temp[0].get_text().split())"
      ],
      "metadata": {
        "colab": {
          "base_uri": "https://localhost:8080/"
        },
        "id": "-zoMT0VzJ4Cn",
        "outputId": "f64f1638-c218-409c-c30c-c613b35154a3"
      },
      "execution_count": null,
      "outputs": [
        {
          "output_type": "stream",
          "name": "stdout",
          "text": [
            "[<p class=\"outer-text first-item\" id=\"second\">\n",
            "<b>\n",
            "                First outer paragraph.\n",
            "            </b>\n",
            "</p>, <p class=\"outer-text\">\n",
            "<b>\n",
            "                Second outer paragraph.\n",
            "            </b>\n",
            "</p>]\n",
            "['First', 'outer', 'paragraph.']\n"
          ]
        }
      ]
    },
    {
      "cell_type": "code",
      "source": [
        "soup.find_all(id=\"first\")"
      ],
      "metadata": {
        "colab": {
          "base_uri": "https://localhost:8080/"
        },
        "id": "3RevKQvQKX6R",
        "outputId": "9cd3d134-7465-4c6a-d439-a6f31efa88d3"
      },
      "execution_count": null,
      "outputs": [
        {
          "output_type": "execute_result",
          "data": {
            "text/plain": [
              "[<p class=\"inner-text first-item\" id=\"first\">\n",
              "                 First paragraph.\n",
              "             </p>]"
            ]
          },
          "metadata": {},
          "execution_count": 21
        }
      ]
    },
    {
      "cell_type": "code",
      "source": [
        "page = requests.get(\"https://forecast.weather.gov/MapClick.php?lat=37.7772&lon=-122.4168\")\n",
        "soup = BeautifulSoup(page.content, 'html.parser')\n",
        "seven_day = soup.find(id=\"seven-day-forecast\")\n",
        "forecast_items = seven_day.find_all(class_=\"tombstone-container\")\n",
        "tonight = forecast_items[0]\n",
        "print(tonight.prettify())"
      ],
      "metadata": {
        "colab": {
          "base_uri": "https://localhost:8080/"
        },
        "id": "zxiA8AQvKa92",
        "outputId": "d75ae417-13d7-478c-be35-ebfff9f8acb4"
      },
      "execution_count": null,
      "outputs": [
        {
          "output_type": "stream",
          "name": "stdout",
          "text": [
            "<div class=\"tombstone-container\">\n",
            " <p class=\"period-name\">\n",
            "  Today\n",
            "  <br/>\n",
            "  <br/>\n",
            " </p>\n",
            " <p>\n",
            "  <img alt=\"Today: Sunny, with a high near 60. North wind 7 to 10 mph becoming west in the afternoon. \" class=\"forecast-icon\" src=\"newimages/medium/skc.png\" title=\"Today: Sunny, with a high near 60. North wind 7 to 10 mph becoming west in the afternoon. \"/>\n",
            " </p>\n",
            " <p class=\"short-desc\">\n",
            "  Sunny\n",
            " </p>\n",
            " <p class=\"temp temp-high\">\n",
            "  High: 60 °F\n",
            " </p>\n",
            "</div>\n"
          ]
        }
      ]
    },
    {
      "cell_type": "code",
      "source": [
        "period = tonight.find(class_=\"period-name\").get_text()\n",
        "short_desc = tonight.find(class_=\"short-desc\").get_text()\n",
        "temp = tonight.find(class_=\"temp\").get_text()\n",
        "print(period)\n",
        "print(short_desc)\n",
        "print(temp)"
      ],
      "metadata": {
        "colab": {
          "base_uri": "https://localhost:8080/"
        },
        "id": "t19-DxtUVUNU",
        "outputId": "d4fb14ba-7192-4b71-e7c4-c9179f74f19e"
      },
      "execution_count": null,
      "outputs": [
        {
          "output_type": "stream",
          "name": "stdout",
          "text": [
            "Today\n",
            "Sunny\n",
            "High: 60 °F\n"
          ]
        }
      ]
    },
    {
      "cell_type": "code",
      "source": [
        "img = tonight.find(\"img\")\n",
        "desc = img['title'] # alt and title are both this?\n",
        "print(desc)"
      ],
      "metadata": {
        "colab": {
          "base_uri": "https://localhost:8080/"
        },
        "id": "Ae1MI9CaViF8",
        "outputId": "f268b03d-fd79-4cef-976e-5e15e33f7abf"
      },
      "execution_count": null,
      "outputs": [
        {
          "output_type": "stream",
          "name": "stdout",
          "text": [
            "Today: Sunny, with a high near 60. North wind 7 to 10 mph becoming west in the afternoon. \n"
          ]
        }
      ]
    },
    {
      "cell_type": "code",
      "source": [
        "img"
      ],
      "metadata": {
        "colab": {
          "base_uri": "https://localhost:8080/"
        },
        "id": "-G2CMFxXVkB8",
        "outputId": "2263bcfd-291d-4648-bc6d-a074622c3c4d"
      },
      "execution_count": null,
      "outputs": [
        {
          "output_type": "execute_result",
          "data": {
            "text/plain": [
              "<img alt=\"Today: Sunny, with a high near 60. North wind 7 to 10 mph becoming west in the afternoon. \" class=\"forecast-icon\" src=\"newimages/medium/skc.png\" title=\"Today: Sunny, with a high near 60. North wind 7 to 10 mph becoming west in the afternoon. \"/>"
            ]
          },
          "metadata": {},
          "execution_count": 25
        }
      ]
    },
    {
      "cell_type": "code",
      "source": [
        "period_tags = seven_day.select(\".tombstone-container .period-name\")\n",
        "periods = [pt.get_text() for pt in period_tags]\n",
        "periods"
      ],
      "metadata": {
        "colab": {
          "base_uri": "https://localhost:8080/"
        },
        "id": "R4DQIdFkWBE8",
        "outputId": "09226d17-f1a0-4c7d-a4d6-e2091cc16ee3"
      },
      "execution_count": null,
      "outputs": [
        {
          "output_type": "execute_result",
          "data": {
            "text/plain": [
              "['Today',\n",
              " 'Tonight',\n",
              " 'Monday',\n",
              " 'MondayNight',\n",
              " 'Tuesday',\n",
              " 'TuesdayNight',\n",
              " 'Wednesday',\n",
              " 'WednesdayNight',\n",
              " 'Thursday']"
            ]
          },
          "metadata": {},
          "execution_count": 26
        }
      ]
    },
    {
      "cell_type": "code",
      "source": [
        "short_descs = [sd.get_text() for sd in seven_day.select(\".tombstone-container .short-desc\")]\n",
        "temps = [t.get_text() for t in seven_day.select(\".tombstone-container .temp\")]\n",
        "descs = [d[\"title\"] for d in seven_day.select(\".tombstone-container img\")]\n",
        "print(short_descs)\n",
        "print(temps)\n",
        "print(descs)"
      ],
      "metadata": {
        "colab": {
          "base_uri": "https://localhost:8080/"
        },
        "id": "oeI2BzRaWD58",
        "outputId": "e806ec5a-4fab-4cc3-a624-3edda1865015"
      },
      "execution_count": null,
      "outputs": [
        {
          "output_type": "stream",
          "name": "stdout",
          "text": [
            "['Sunny', 'Mostly Clear', 'Sunny', 'Clear', 'Sunny', 'Clear', 'Sunny', 'Mostly Clear', 'Mostly Sunny']\n",
            "['High: 60 °F', 'Low: 44 °F', 'High: 60 °F', 'Low: 43 °F', 'High: 62 °F', 'Low: 45 °F', 'High: 63 °F', 'Low: 44 °F', 'High: 60 °F']\n",
            "['Today: Sunny, with a high near 60. North wind 7 to 10 mph becoming west in the afternoon. ', 'Tonight: Mostly clear, with a low around 44. West southwest wind 3 to 7 mph. ', 'Monday: Sunny, with a high near 60. Light east wind becoming north northeast 5 to 9 mph in the morning. ', 'Monday Night: Clear, with a low around 43. North northeast wind 6 to 9 mph. ', 'Tuesday: Sunny, with a high near 62. East northeast wind 9 to 11 mph. ', 'Tuesday Night: Clear, with a low around 45.', 'Wednesday: Sunny, with a high near 63.', 'Wednesday Night: Mostly clear, with a low around 44.', 'Thursday: Mostly sunny, with a high near 60.']\n"
          ]
        }
      ]
    },
    {
      "cell_type": "code",
      "source": [
        "weather = pd.DataFrame({\n",
        "    \"period\": periods,\n",
        "    \"short_desc\": short_descs,\n",
        "    \"temp\": temps,\n",
        "    \"desc\":descs\n",
        "})\n",
        "weather"
      ],
      "metadata": {
        "colab": {
          "base_uri": "https://localhost:8080/",
          "height": 331
        },
        "id": "XOeKWGEPWPI0",
        "outputId": "bdff461a-9ad0-47b1-865d-638d9fbbcb47"
      },
      "execution_count": null,
      "outputs": [
        {
          "output_type": "execute_result",
          "data": {
            "text/plain": [
              "           period    short_desc         temp  \\\n",
              "0           Today         Sunny  High: 60 °F   \n",
              "1         Tonight  Mostly Clear   Low: 44 °F   \n",
              "2          Monday         Sunny  High: 60 °F   \n",
              "3     MondayNight         Clear   Low: 43 °F   \n",
              "4         Tuesday         Sunny  High: 62 °F   \n",
              "5    TuesdayNight         Clear   Low: 45 °F   \n",
              "6       Wednesday         Sunny  High: 63 °F   \n",
              "7  WednesdayNight  Mostly Clear   Low: 44 °F   \n",
              "8        Thursday  Mostly Sunny  High: 60 °F   \n",
              "\n",
              "                                                desc  \n",
              "0  Today: Sunny, with a high near 60. North wind ...  \n",
              "1  Tonight: Mostly clear, with a low around 44. W...  \n",
              "2  Monday: Sunny, with a high near 60. Light east...  \n",
              "3  Monday Night: Clear, with a low around 43. Nor...  \n",
              "4  Tuesday: Sunny, with a high near 62. East nort...  \n",
              "5        Tuesday Night: Clear, with a low around 45.  \n",
              "6             Wednesday: Sunny, with a high near 63.  \n",
              "7  Wednesday Night: Mostly clear, with a low arou...  \n",
              "8       Thursday: Mostly sunny, with a high near 60.  "
            ],
            "text/html": [
              "\n",
              "  <div id=\"df-7867d349-ebe1-4e06-94f5-02e3d3336a3f\">\n",
              "    <div class=\"colab-df-container\">\n",
              "      <div>\n",
              "<style scoped>\n",
              "    .dataframe tbody tr th:only-of-type {\n",
              "        vertical-align: middle;\n",
              "    }\n",
              "\n",
              "    .dataframe tbody tr th {\n",
              "        vertical-align: top;\n",
              "    }\n",
              "\n",
              "    .dataframe thead th {\n",
              "        text-align: right;\n",
              "    }\n",
              "</style>\n",
              "<table border=\"1\" class=\"dataframe\">\n",
              "  <thead>\n",
              "    <tr style=\"text-align: right;\">\n",
              "      <th></th>\n",
              "      <th>period</th>\n",
              "      <th>short_desc</th>\n",
              "      <th>temp</th>\n",
              "      <th>desc</th>\n",
              "    </tr>\n",
              "  </thead>\n",
              "  <tbody>\n",
              "    <tr>\n",
              "      <th>0</th>\n",
              "      <td>Today</td>\n",
              "      <td>Sunny</td>\n",
              "      <td>High: 60 °F</td>\n",
              "      <td>Today: Sunny, with a high near 60. North wind ...</td>\n",
              "    </tr>\n",
              "    <tr>\n",
              "      <th>1</th>\n",
              "      <td>Tonight</td>\n",
              "      <td>Mostly Clear</td>\n",
              "      <td>Low: 44 °F</td>\n",
              "      <td>Tonight: Mostly clear, with a low around 44. W...</td>\n",
              "    </tr>\n",
              "    <tr>\n",
              "      <th>2</th>\n",
              "      <td>Monday</td>\n",
              "      <td>Sunny</td>\n",
              "      <td>High: 60 °F</td>\n",
              "      <td>Monday: Sunny, with a high near 60. Light east...</td>\n",
              "    </tr>\n",
              "    <tr>\n",
              "      <th>3</th>\n",
              "      <td>MondayNight</td>\n",
              "      <td>Clear</td>\n",
              "      <td>Low: 43 °F</td>\n",
              "      <td>Monday Night: Clear, with a low around 43. Nor...</td>\n",
              "    </tr>\n",
              "    <tr>\n",
              "      <th>4</th>\n",
              "      <td>Tuesday</td>\n",
              "      <td>Sunny</td>\n",
              "      <td>High: 62 °F</td>\n",
              "      <td>Tuesday: Sunny, with a high near 62. East nort...</td>\n",
              "    </tr>\n",
              "    <tr>\n",
              "      <th>5</th>\n",
              "      <td>TuesdayNight</td>\n",
              "      <td>Clear</td>\n",
              "      <td>Low: 45 °F</td>\n",
              "      <td>Tuesday Night: Clear, with a low around 45.</td>\n",
              "    </tr>\n",
              "    <tr>\n",
              "      <th>6</th>\n",
              "      <td>Wednesday</td>\n",
              "      <td>Sunny</td>\n",
              "      <td>High: 63 °F</td>\n",
              "      <td>Wednesday: Sunny, with a high near 63.</td>\n",
              "    </tr>\n",
              "    <tr>\n",
              "      <th>7</th>\n",
              "      <td>WednesdayNight</td>\n",
              "      <td>Mostly Clear</td>\n",
              "      <td>Low: 44 °F</td>\n",
              "      <td>Wednesday Night: Mostly clear, with a low arou...</td>\n",
              "    </tr>\n",
              "    <tr>\n",
              "      <th>8</th>\n",
              "      <td>Thursday</td>\n",
              "      <td>Mostly Sunny</td>\n",
              "      <td>High: 60 °F</td>\n",
              "      <td>Thursday: Mostly sunny, with a high near 60.</td>\n",
              "    </tr>\n",
              "  </tbody>\n",
              "</table>\n",
              "</div>\n",
              "      <button class=\"colab-df-convert\" onclick=\"convertToInteractive('df-7867d349-ebe1-4e06-94f5-02e3d3336a3f')\"\n",
              "              title=\"Convert this dataframe to an interactive table.\"\n",
              "              style=\"display:none;\">\n",
              "        \n",
              "  <svg xmlns=\"http://www.w3.org/2000/svg\" height=\"24px\"viewBox=\"0 0 24 24\"\n",
              "       width=\"24px\">\n",
              "    <path d=\"M0 0h24v24H0V0z\" fill=\"none\"/>\n",
              "    <path d=\"M18.56 5.44l.94 2.06.94-2.06 2.06-.94-2.06-.94-.94-2.06-.94 2.06-2.06.94zm-11 1L8.5 8.5l.94-2.06 2.06-.94-2.06-.94L8.5 2.5l-.94 2.06-2.06.94zm10 10l.94 2.06.94-2.06 2.06-.94-2.06-.94-.94-2.06-.94 2.06-2.06.94z\"/><path d=\"M17.41 7.96l-1.37-1.37c-.4-.4-.92-.59-1.43-.59-.52 0-1.04.2-1.43.59L10.3 9.45l-7.72 7.72c-.78.78-.78 2.05 0 2.83L4 21.41c.39.39.9.59 1.41.59.51 0 1.02-.2 1.41-.59l7.78-7.78 2.81-2.81c.8-.78.8-2.07 0-2.86zM5.41 20L4 18.59l7.72-7.72 1.47 1.35L5.41 20z\"/>\n",
              "  </svg>\n",
              "      </button>\n",
              "      \n",
              "  <style>\n",
              "    .colab-df-container {\n",
              "      display:flex;\n",
              "      flex-wrap:wrap;\n",
              "      gap: 12px;\n",
              "    }\n",
              "\n",
              "    .colab-df-convert {\n",
              "      background-color: #E8F0FE;\n",
              "      border: none;\n",
              "      border-radius: 50%;\n",
              "      cursor: pointer;\n",
              "      display: none;\n",
              "      fill: #1967D2;\n",
              "      height: 32px;\n",
              "      padding: 0 0 0 0;\n",
              "      width: 32px;\n",
              "    }\n",
              "\n",
              "    .colab-df-convert:hover {\n",
              "      background-color: #E2EBFA;\n",
              "      box-shadow: 0px 1px 2px rgba(60, 64, 67, 0.3), 0px 1px 3px 1px rgba(60, 64, 67, 0.15);\n",
              "      fill: #174EA6;\n",
              "    }\n",
              "\n",
              "    [theme=dark] .colab-df-convert {\n",
              "      background-color: #3B4455;\n",
              "      fill: #D2E3FC;\n",
              "    }\n",
              "\n",
              "    [theme=dark] .colab-df-convert:hover {\n",
              "      background-color: #434B5C;\n",
              "      box-shadow: 0px 1px 3px 1px rgba(0, 0, 0, 0.15);\n",
              "      filter: drop-shadow(0px 1px 2px rgba(0, 0, 0, 0.3));\n",
              "      fill: #FFFFFF;\n",
              "    }\n",
              "  </style>\n",
              "\n",
              "      <script>\n",
              "        const buttonEl =\n",
              "          document.querySelector('#df-7867d349-ebe1-4e06-94f5-02e3d3336a3f button.colab-df-convert');\n",
              "        buttonEl.style.display =\n",
              "          google.colab.kernel.accessAllowed ? 'block' : 'none';\n",
              "\n",
              "        async function convertToInteractive(key) {\n",
              "          const element = document.querySelector('#df-7867d349-ebe1-4e06-94f5-02e3d3336a3f');\n",
              "          const dataTable =\n",
              "            await google.colab.kernel.invokeFunction('convertToInteractive',\n",
              "                                                     [key], {});\n",
              "          if (!dataTable) return;\n",
              "\n",
              "          const docLinkHtml = 'Like what you see? Visit the ' +\n",
              "            '<a target=\"_blank\" href=https://colab.research.google.com/notebooks/data_table.ipynb>data table notebook</a>'\n",
              "            + ' to learn more about interactive tables.';\n",
              "          element.innerHTML = '';\n",
              "          dataTable['output_type'] = 'display_data';\n",
              "          await google.colab.output.renderOutput(dataTable, element);\n",
              "          const docLink = document.createElement('div');\n",
              "          docLink.innerHTML = docLinkHtml;\n",
              "          element.appendChild(docLink);\n",
              "        }\n",
              "      </script>\n",
              "    </div>\n",
              "  </div>\n",
              "  "
            ]
          },
          "metadata": {},
          "execution_count": 28
        }
      ]
    },
    {
      "cell_type": "code",
      "source": [
        "page = requests.get(\"https://stocktwits.com/message/4\")\n",
        "soup = BeautifulSoup(page.content, 'html.parser')"
      ],
      "metadata": {
        "id": "SNF1PklOWRxk"
      },
      "execution_count": null,
      "outputs": []
    },
    {
      "cell_type": "code",
      "source": [
        "twit_text = soup.head.find(\"meta\", attrs={\"name\" : \"description\"})[\"content\"]\n",
        "print(twit_text)"
      ],
      "metadata": {
        "colab": {
          "base_uri": "https://localhost:8080/"
        },
        "id": "giNe92gxXJWD",
        "outputId": "461db285-2ecc-41d6-9ac5-a9873677517f"
      },
      "execution_count": null,
      "outputs": [
        {
          "output_type": "stream",
          "name": "stdout",
          "text": [
            "Sorry, I mean trading $V ;)\n"
          ]
        }
      ]
    },
    {
      "cell_type": "code",
      "source": [
        "# Empty\n",
        "page = requests.get(\"https://stocktwits.com/message/1000\")\n",
        "soup = BeautifulSoup(page.content, 'html.parser')\n",
        "twit_text = soup.head.find(\"meta\", attrs={\"name\" : \"description\"})[\"content\"]\n",
        "print(twit_text)"
      ],
      "metadata": {
        "colab": {
          "base_uri": "https://localhost:8080/"
        },
        "id": "xrK2E-c6Y4HK",
        "outputId": "7e939a4f-76e2-481f-f0a7-589dab217d2e"
      },
      "execution_count": null,
      "outputs": [
        {
          "output_type": "stream",
          "name": "stdout",
          "text": [
            "\n"
          ]
        }
      ]
    },
    {
      "cell_type": "code",
      "source": [
        "page = requests.get(\"https://stocktwits.com/message/1002\")\n",
        "soup = BeautifulSoup(page.content, 'html.parser')\n",
        "twit_text = soup.head.find(\"meta\", attrs={\"name\" : \"description\"})[\"content\"]\n",
        "print(twit_text)"
      ],
      "metadata": {
        "colab": {
          "base_uri": "https://localhost:8080/"
        },
        "id": "JtPaTgLDZC6g",
        "outputId": "bee41ce6-597c-4360-8216-dfb766b86c83"
      },
      "execution_count": null,
      "outputs": [
        {
          "output_type": "stream",
          "name": "stdout",
          "text": [
            "Best trade I've made today was trying to short $ESLR at 11.95, and accidently sending in a buy order - up 2% in 10 minutes.\n"
          ]
        }
      ]
    },
    {
      "cell_type": "code",
      "source": [
        "page = requests.get(\"https://stocktwits.com/message/495753011\")\n",
        "soup = BeautifulSoup(page.content, 'html.parser')\n",
        "twit_text = soup.head.find(\"meta\", attrs={\"name\" : \"description\"})[\"content\"]\n",
        "print(twit_text)"
      ],
      "metadata": {
        "colab": {
          "base_uri": "https://localhost:8080/"
        },
        "id": "cBmVqKkxZRA_",
        "outputId": "aef8d1ff-fdc0-4405-de6e-80422049b365"
      },
      "execution_count": null,
      "outputs": [
        {
          "output_type": "stream",
          "name": "stdout",
          "text": [
            "@Vcouto90 Current yield is 3.22%. Last dividend was $0.6367 per share. It's a quarterly dividend. We won't know what the next dividend will be until we get closer do the payout date. But we can assume at 3.22%, it might be close to $0.6192 near December 13th. 175 shares x 0.6192 is $108.36. Just an assumption though.\n"
          ]
        }
      ]
    },
    {
      "cell_type": "code",
      "source": [
        "print(soup.find_all(\"a\", attrs={\"class\" : \"st_28bQfzV st_1E79qOs st_3TuKxmZ st_1VMMH6S\"})) # Not getting date for recent ones?"
      ],
      "metadata": {
        "id": "G3FJzZALQY9l",
        "outputId": "42b9400a-5f43-47b8-e4b8-58407fd44ace",
        "colab": {
          "base_uri": "https://localhost:8080/"
        }
      },
      "execution_count": null,
      "outputs": [
        {
          "output_type": "stream",
          "name": "stdout",
          "text": [
            "[<a class=\"st_28bQfzV st_1E79qOs st_3TuKxmZ st_1VMMH6S\" data-event=\"click\" href=\"/anthonybrown/message/1002\">6/19/08, 04:46 PM</a>]\n"
          ]
        }
      ]
    },
    {
      "cell_type": "code",
      "source": [
        "# Is structure of each page the same?\n",
        "# Is each page associated with one company, or is it just based off the names of the stocks present in each one?\n",
        "# Record dates as well?\n",
        "# usename (name @name)? Ignore usernames because there are too many?\n",
        "# Selenium?\n",
        "# What do I make?\n",
        "# Empty twits? Ignore if lack content?\n",
        "# usernames and numbers inside the Twits"
      ],
      "metadata": {
        "id": "jKZo3bxSYj-J"
      },
      "execution_count": null,
      "outputs": []
    }
  ]
}