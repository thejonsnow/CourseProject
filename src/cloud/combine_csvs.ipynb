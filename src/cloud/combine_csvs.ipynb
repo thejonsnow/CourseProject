{
 "cells": [
  {
   "cell_type": "code",
   "execution_count": 1,
   "metadata": {},
   "outputs": [],
   "source": [
    "import base64\n",
    "import requests\n",
    "from bs4 import BeautifulSoup\n",
    "import pandas as pd\n",
    "import firebase_admin\n",
    "from firebase_admin import credentials\n",
    "from firebase_admin import firestore\n",
    "from firebase_admin import db, storage\n",
    "import json\n",
    "import time"
   ]
  },
  {
   "cell_type": "code",
   "execution_count": 2,
   "metadata": {},
   "outputs": [],
   "source": [
    "cred = credentials.Certificate('./cred.json')\n",
    "app = firebase_admin.initialize_app(cred, {'storageBucket':'cs410-7733e.appspot.com'})\n",
    "bucket = storage.bucket(app=app)"
   ]
  },
  {
   "cell_type": "code",
   "execution_count": 13,
   "metadata": {},
   "outputs": [
    {
     "name": "stdout",
     "output_type": "stream",
     "text": [
      "1\n",
      "2\n",
      "3\n",
      "4\n",
      "5\n",
      "171705\n",
      "       Unnamed: 0  Unnamed: 0.1  Unnamed: 0.1.1  Unnamed: 0.1.1.1  \\\n",
      "27113        7083           NaN             NaN               NaN   \n",
      "\n",
      "       Unnamed: 0.1.1.1.1  Unnamed: 0.1.1.1.1.1  Unnamed: 0.1.1.1.1.1.1  \\\n",
      "27113                 NaN                   NaN                     NaN   \n",
      "\n",
      "       Unnamed: 0.1.1.1.1.1.1.1  twit_id  \\\n",
      "27113                       NaN   471784   \n",
      "\n",
      "                                               twit_text  ...  \\\n",
      "27113  Pre-market on $CSCO looks like they didn't rep...  ...   \n",
      "\n",
      "              twit_symbol_industry  \\\n",
      "27113  TelecommunicationsEquipment   \n",
      "\n",
      "                                 twit_symbol_logo_url twit_prices_symbol  \\\n",
      "27113  http://logos.xignite.com/NASDAQGS/00026041.gif                NaN   \n",
      "\n",
      "      twit_prices_price twit_prices_current_price  \\\n",
      "27113               NaN                       NaN   \n",
      "\n",
      "      twit_prices_change_since_message  \\\n",
      "27113                              NaN   \n",
      "\n",
      "       twit_prices_percent_change_since_message  twit_likes  twit_entities  \\\n",
      "27113                                       NaN         NaN            NaN   \n",
      "\n",
      "       Unnamed: 0.1.1.1.1.1.1.1.1  \n",
      "27113                         NaN  \n",
      "\n",
      "[1 rows x 35 columns]\n"
     ]
    }
   ],
   "source": [
    "frames = []\n",
    "for i in range(1,6):\n",
    "    print(i)\n",
    "    csv_str = 'gs://cs410-7733e.appspot.com/twits'+str(i)+'.csv'\n",
    "    old_df = pd.read_csv(csv_str,storage_options={\"token\": \"./cred.json\"})\n",
    "    frames.append(old_df)\n",
    "df = pd.concat(frames)\n",
    "print(len(df.index))\n",
    "print(df[-1:])\n",
    "storage_ref = 'combo.csv'\n",
    "blob = bucket.blob(storage_ref)\n",
    "blob.upload_from_string(df.iloc[0: , :].to_csv())"
   ]
  }
 ],
 "metadata": {
  "kernelspec": {
   "display_name": "Python 3.7.9 64-bit",
   "language": "python",
   "name": "python3"
  },
  "language_info": {
   "codemirror_mode": {
    "name": "ipython",
    "version": 3
   },
   "file_extension": ".py",
   "mimetype": "text/x-python",
   "name": "python",
   "nbconvert_exporter": "python",
   "pygments_lexer": "ipython3",
   "version": "3.7.9"
  },
  "orig_nbformat": 4,
  "vscode": {
   "interpreter": {
    "hash": "bc61d7c2b16617a730c1982ecf2edeca2f22160a4ce5ca5fdaaf9baa76679965"
   }
  }
 },
 "nbformat": 4,
 "nbformat_minor": 2
}
