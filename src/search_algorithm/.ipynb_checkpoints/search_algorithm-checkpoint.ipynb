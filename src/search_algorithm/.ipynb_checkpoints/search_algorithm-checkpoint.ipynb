{
 "cells": [
  {
   "cell_type": "markdown",
   "id": "f4a85149",
   "metadata": {},
   "source": [
    "# 1. Installation of packages"
   ]
  },
  {
   "cell_type": "code",
   "execution_count": 1,
   "id": "c7d331f2",
   "metadata": {},
   "outputs": [
    {
     "name": "stdout",
     "output_type": "stream",
     "text": [
      "Requirement already satisfied: numpy in c:\\users\\sewoo\\appdata\\local\\programs\\python\\python37\\lib\\site-packages (1.21.6)\n",
      "Requirement already satisfied: matplotlib in c:\\users\\sewoo\\appdata\\local\\programs\\python\\python37\\lib\\site-packages (3.5.3)\n",
      "Requirement already satisfied: cycler>=0.10 in c:\\users\\sewoo\\appdata\\local\\programs\\python\\python37\\lib\\site-packages (from matplotlib) (0.11.0)\n",
      "Requirement already satisfied: fonttools>=4.22.0 in c:\\users\\sewoo\\appdata\\local\\programs\\python\\python37\\lib\\site-packages (from matplotlib) (4.38.0)\n",
      "Requirement already satisfied: pillow>=6.2.0 in c:\\users\\sewoo\\appdata\\local\\programs\\python\\python37\\lib\\site-packages (from matplotlib) (9.3.0)\n",
      "Requirement already satisfied: packaging>=20.0 in c:\\users\\sewoo\\appdata\\local\\programs\\python\\python37\\lib\\site-packages (from matplotlib) (21.3)\n",
      "Requirement already satisfied: pyparsing>=2.2.1 in c:\\users\\sewoo\\appdata\\local\\programs\\python\\python37\\lib\\site-packages (from matplotlib) (3.0.9)\n",
      "Requirement already satisfied: python-dateutil>=2.7 in c:\\users\\sewoo\\appdata\\local\\programs\\python\\python37\\lib\\site-packages (from matplotlib) (2.8.2)\n",
      "Requirement already satisfied: numpy>=1.17 in c:\\users\\sewoo\\appdata\\local\\programs\\python\\python37\\lib\\site-packages (from matplotlib) (1.21.6)\n",
      "Requirement already satisfied: kiwisolver>=1.0.1 in c:\\users\\sewoo\\appdata\\local\\programs\\python\\python37\\lib\\site-packages (from matplotlib) (1.4.4)\n",
      "Requirement already satisfied: typing-extensions in c:\\users\\sewoo\\appdata\\local\\programs\\python\\python37\\lib\\site-packages (from kiwisolver>=1.0.1->matplotlib) (4.3.0)\n",
      "Requirement already satisfied: six>=1.5 in c:\\users\\sewoo\\appdata\\local\\programs\\python\\python37\\lib\\site-packages (from python-dateutil>=2.7->matplotlib) (1.16.0)\n",
      "Requirement already satisfied: rank-bm25 in c:\\users\\sewoo\\appdata\\local\\programs\\python\\python37\\lib\\site-packages (0.2.2)\n",
      "Requirement already satisfied: numpy in c:\\users\\sewoo\\appdata\\local\\programs\\python\\python37\\lib\\site-packages (from rank-bm25) (1.21.6)\n",
      "Requirement already satisfied: pandas in c:\\users\\sewoo\\appdata\\local\\programs\\python\\python37\\lib\\site-packages (1.1.5)\n",
      "Requirement already satisfied: python-dateutil>=2.7.3 in c:\\users\\sewoo\\appdata\\local\\programs\\python\\python37\\lib\\site-packages (from pandas) (2.8.2)\n",
      "Requirement already satisfied: pytz>=2017.2 in c:\\users\\sewoo\\appdata\\local\\programs\\python\\python37\\lib\\site-packages (from pandas) (2022.4)\n",
      "Requirement already satisfied: numpy>=1.15.4 in c:\\users\\sewoo\\appdata\\local\\programs\\python\\python37\\lib\\site-packages (from pandas) (1.21.6)\n",
      "Requirement already satisfied: six>=1.5 in c:\\users\\sewoo\\appdata\\local\\programs\\python\\python37\\lib\\site-packages (from python-dateutil>=2.7.3->pandas) (1.16.0)\n"
     ]
    }
   ],
   "source": [
    "!pip install numpy\n",
    "!pip install matplotlib\n",
    "!pip install rank-bm25\n",
    "!pip install pandas"
   ]
  },
  {
   "cell_type": "markdown",
   "id": "4ed3f242",
   "metadata": {},
   "source": [
    "# 2. Search algorithm"
   ]
  },
  {
   "cell_type": "code",
   "execution_count": 2,
   "id": "f0331cda",
   "metadata": {},
   "outputs": [],
   "source": [
    "import numpy as np\n",
    "import matplotlib.pyplot as plt\n",
    "from rank_bm25 import BM25Okapi\n",
    "\n",
    "TWIT_PREVIEW_LEN = 40\n",
    "DEFAULT_TOP_N = 5\n",
    "\n",
    "class SearchAlgorithm:\n",
    "    \n",
    "    def update_ranker(self, corpus, k1=1.5, b=0.75, epsilon=0.25):\n",
    "        self.corpus = corpus\n",
    "        tokenized_corpus = [doc.split(\" \") for doc in corpus]\n",
    "        self.ranker = BM25Okapi(tokenized_corpus, k1=k1, b=b, epsilon=epsilon)\n",
    "        \n",
    "    def get_scores(self, query):\n",
    "        tokenized_query = query.split(\" \")\n",
    "        return self.ranker.get_scores(tokenized_query)\n",
    "    \n",
    "    def get_top_n(self, query, n=DEFAULT_TOP_N):\n",
    "        tokenized_query = query.split(\" \")\n",
    "        return self.ranker.get_top_n(tokenized_query, self.corpus, n=n)\n",
    "    \n",
    "    def plot_top_n(self, query, n=DEFAULT_TOP_N):        \n",
    "        scores = self.get_scores(query)\n",
    "        sorted_scores, sorted_corpus = zip(*sorted(zip(scores, corpus), key=lambda x: x[0], reverse=True))\n",
    "        \n",
    "        plt.rcdefaults()\n",
    "        fig, ax = plt.subplots()\n",
    "\n",
    "        plot_scores = sorted_scores[:n]\n",
    "        plot_corpus = sorted_corpus[:n]\n",
    "        \n",
    "        y_pos = np.arange(len(plot_corpus))\n",
    "        ax.barh(y_pos, plot_scores)\n",
    "        ax.invert_yaxis()\n",
    "        \n",
    "        subcorpus = [s[:TWIT_PREVIEW_LEN] for s in plot_corpus]\n",
    "        ax.set_yticks(y_pos, labels=subcorpus)\n",
    "                \n",
    "        ax.set_ylabel('StockTwit')\n",
    "        ax.set_xlabel('Score')\n",
    "        \n",
    "        plt.show()        "
   ]
  },
  {
   "cell_type": "markdown",
   "id": "a48c5251",
   "metadata": {},
   "source": [
    "# 3. Usage"
   ]
  },
  {
   "cell_type": "markdown",
   "id": "f3ca972d",
   "metadata": {},
   "source": [
    "## 3.1 Plotting search result"
   ]
  },
  {
   "cell_type": "code",
   "execution_count": 3,
   "id": "cbd7a99c",
   "metadata": {},
   "outputs": [],
   "source": [
    "corpus = [\n",
    "    \"@lechleidner I'm generally not a fan of biotech, but this chart is in a well defined technical pattern. \"+\n",
    "    \"Here's something many traders are likely watching.  No guarantee it will play out like the projection on the chart, \"+\n",
    "    \"but it happens often enough to keep an eye on. I may even buy a little if I see an entry I like. \"+\n",
    "    \"I looked back and it appears I've missed your chart requests more than once. \"+\n",
    "    \"If I miss them, it isn't on purpose, so make sure to ask again. \"+\n",
    "    \"I take chart requests to hopefully help others, but you guys many times introduce me to tickers \"+\n",
    "    \"I may not currently be watching, so I often benefit also! \"+\n",
    "    \"Call me selfish if you would like, but please keep those chart requests coming. \"+\n",
    "    \"lol $RAPT is a good one.\",\n",
    "    \n",
    "    \"@Autist_Trader yeah, no one bought the lows... \"+\n",
    "    \"and now constantly wishes we went back there. Same ol story... \"+\n",
    "    \"Hooman nature on display right there.\",\n",
    "    \n",
    "    \"Top 2000 #EthereumWhales Hold $80 Million Worth of $SHIB on Average    coinedition.com/top-2000-et...\",\n",
    "    \n",
    "    \"$SPY Can literally see where bodies fell to the ground on this chart. Dayum, what a week to remember.\",\n",
    "    \n",
    "    \"$SPY - Closes the week with a bullish candle that engulfs the 20 SMA on this 5 year, weekly chart.\",\n",
    "    \n",
    "    \"Wanna share some TA later on Sunday, not sure whether to bore you to death with SPY/ES again, or share something different... \"+\n",
    "    \"Any sector you'd want to see, or ... dealer's choice? \"+\n",
    "    \"Will pass by late after my regular Sunday call... or if too exhausted, mañana. ✊🏼\",\n",
    "    \n",
    "    \"$FDAX_F a clean bullish reversal #GER40\",\n",
    "    \n",
    "    \"$FTSE has the biggest upside potential 300 points higher, how to trade it take the trial trendtradingdna.com/premium/\"+\n",
    "    \"Hope all are prepping well for next week.\",\n",
    "]"
   ]
  },
  {
   "cell_type": "code",
   "execution_count": 4,
   "id": "76e57743",
   "metadata": {},
   "outputs": [],
   "source": [
    "algo = SearchAlgorithm()\n",
    "algo.update_ranker(corpus, k1=1.5, b=0.75, epsilon=0.25)"
   ]
  },
  {
   "cell_type": "code",
   "execution_count": 5,
   "id": "94f01bcc",
   "metadata": {},
   "outputs": [
    {
     "data": {
      "text/plain": [
       "array([0.        , 0.        , 0.        , 1.21838141, 2.39904851,\n",
       "       0.        , 1.53133558, 0.        ])"
      ]
     },
     "execution_count": 5,
     "metadata": {},
     "output_type": "execute_result"
    }
   ],
   "source": [
    "query = \"$SPY bullish\"\n",
    "algo.get_scores(query)"
   ]
  },
  {
   "cell_type": "code",
   "execution_count": 6,
   "id": "6dedf7c9",
   "metadata": {},
   "outputs": [
    {
     "data": {
      "text/plain": [
       "['$SPY - Closes the week with a bullish candle that engulfs the 20 SMA on this 5 year, weekly chart.',\n",
       " '$FDAX_F a clean bullish reversal #GER40',\n",
       " '$SPY Can literally see where bodies fell to the ground on this chart. Dayum, what a week to remember.',\n",
       " '$FTSE has the biggest upside potential 300 points higher, how to trade it take the trial trendtradingdna.com/premium/Hope all are prepping well for next week.',\n",
       " \"Wanna share some TA later on Sunday, not sure whether to bore you to death with SPY/ES again, or share something different... Any sector you'd want to see, or ... dealer's choice? Will pass by late after my regular Sunday call... or if too exhausted, mañana. ✊🏼\"]"
      ]
     },
     "execution_count": 6,
     "metadata": {},
     "output_type": "execute_result"
    }
   ],
   "source": [
    "algo.get_top_n(query)"
   ]
  },
  {
   "cell_type": "code",
   "execution_count": 7,
   "id": "e5d24ef1",
   "metadata": {
    "scrolled": true
   },
   "outputs": [
    {
     "data": {
      "image/png": "[encoded data removed]",
      "text/plain": [
       "<Figure size 640x480 with 1 Axes>"
      ]
     },
     "metadata": {},
     "output_type": "display_data"
    }
   ],
   "source": [
    "algo.plot_top_n(query)"
   ]
  },
  {
   "cell_type": "markdown",
   "id": "df943c84",
   "metadata": {},
   "source": [
    "## 3.2 Connecting to CSV"
   ]
  },
  {
   "cell_type": "code",
   "execution_count": 8,
   "id": "d7ae6be3",
   "metadata": {},
   "outputs": [
    {
     "data": {
      "text/html": [
       "<div>\n",
       "<style scoped>\n",
       "    .dataframe tbody tr th:only-of-type {\n",
       "        vertical-align: middle;\n",
       "    }\n",
       "\n",
       "    .dataframe tbody tr th {\n",
       "        vertical-align: top;\n",
       "    }\n",
       "\n",
       "    .dataframe thead th {\n",
       "        text-align: right;\n",
       "    }\n",
       "</style>\n",
       "<table border=\"1\" class=\"dataframe\">\n",
       "  <thead>\n",
       "    <tr style=\"text-align: right;\">\n",
       "      <th></th>\n",
       "      <th>id</th>\n",
       "      <th>twit_url</th>\n",
       "      <th>twit_text</th>\n",
       "      <th>twit_user</th>\n",
       "      <th>twit_user_url</th>\n",
       "    </tr>\n",
       "  </thead>\n",
       "  <tbody>\n",
       "    <tr>\n",
       "      <th>0</th>\n",
       "      <td>4</td>\n",
       "      <td>https://stocktwits.com/message/4</td>\n",
       "      <td>Sorry I mean trading $V ;)</td>\n",
       "      <td>@Prospectus</td>\n",
       "      <td>https://stocktwits.com/Prospectus</td>\n",
       "    </tr>\n",
       "    <tr>\n",
       "      <th>1</th>\n",
       "      <td>5</td>\n",
       "      <td>https://stocktwits.com/message/5</td>\n",
       "      <td>Following HEK ($HEK for stocktweets) this morn...</td>\n",
       "      <td>@joshmather</td>\n",
       "      <td>https://stocktwits.com/joshmather</td>\n",
       "    </tr>\n",
       "    <tr>\n",
       "      <th>2</th>\n",
       "      <td>6</td>\n",
       "      <td>https://stocktwits.com/message/6</td>\n",
       "      <td>Wondering when the $AAPL rocket is going to ta...</td>\n",
       "      <td>@anthonybrown</td>\n",
       "      <td>https://stocktwits.com/anthonybrown</td>\n",
       "    </tr>\n",
       "    <tr>\n",
       "      <th>3</th>\n",
       "      <td>7</td>\n",
       "      <td>https://stocktwits.com/message/7</td>\n",
       "      <td>Welcome early adopters! Remember to prefix the...</td>\n",
       "      <td>@Stocktwits</td>\n",
       "      <td>https://stocktwits.com/Stocktwits</td>\n",
       "    </tr>\n",
       "    <tr>\n",
       "      <th>4</th>\n",
       "      <td>9</td>\n",
       "      <td>https://stocktwits.com/message/9</td>\n",
       "      <td>My $AAPL puts are now barely profitable.  I st...</td>\n",
       "      <td>@andyswan</td>\n",
       "      <td>https://stocktwits.com/andyswan</td>\n",
       "    </tr>\n",
       "    <tr>\n",
       "      <th>...</th>\n",
       "      <td>...</td>\n",
       "      <td>...</td>\n",
       "      <td>...</td>\n",
       "      <td>...</td>\n",
       "      <td>...</td>\n",
       "    </tr>\n",
       "    <tr>\n",
       "      <th>150</th>\n",
       "      <td>245</td>\n",
       "      <td>https://stocktwits.com/message/245</td>\n",
       "      <td>reserved shares of $SPDE $ROYL and $GRO as pos...</td>\n",
       "      <td>@timothysykes</td>\n",
       "      <td>https://stocktwits.com/timothysykes</td>\n",
       "    </tr>\n",
       "    <tr>\n",
       "      <th>151</th>\n",
       "      <td>246</td>\n",
       "      <td>https://stocktwits.com/message/246</td>\n",
       "      <td>$ORCL (22.91) Cowen sees strong fiscal Q4 resu...</td>\n",
       "      <td>@TechStockRadar</td>\n",
       "      <td>https://stocktwits.com/TechStockRadar</td>\n",
       "    </tr>\n",
       "    <tr>\n",
       "      <th>152</th>\n",
       "      <td>247</td>\n",
       "      <td>https://stocktwits.com/message/247</td>\n",
       "      <td>The Australian Dollar has been my fav currency...</td>\n",
       "      <td>@GregorMacdonald</td>\n",
       "      <td>https://stocktwits.com/GregorMacdonald</td>\n",
       "    </tr>\n",
       "    <tr>\n",
       "      <th>153</th>\n",
       "      <td>248</td>\n",
       "      <td>https://stocktwits.com/message/248</td>\n",
       "      <td>$IDEV getting up on the wrong side of the bed</td>\n",
       "      <td>@whatthetrading</td>\n",
       "      <td>https://stocktwits.com/whatthetrading</td>\n",
       "    </tr>\n",
       "    <tr>\n",
       "      <th>154</th>\n",
       "      <td>249</td>\n",
       "      <td>https://stocktwits.com/message/249</td>\n",
       "      <td>$ROYL having a tough time in the premarket also</td>\n",
       "      <td>@whatthetrading</td>\n",
       "      <td>https://stocktwits.com/whatthetrading</td>\n",
       "    </tr>\n",
       "  </tbody>\n",
       "</table>\n",
       "<p>155 rows × 5 columns</p>\n",
       "</div>"
      ],
      "text/plain": [
       "      id                            twit_url  \\\n",
       "0      4    https://stocktwits.com/message/4   \n",
       "1      5    https://stocktwits.com/message/5   \n",
       "2      6    https://stocktwits.com/message/6   \n",
       "3      7    https://stocktwits.com/message/7   \n",
       "4      9    https://stocktwits.com/message/9   \n",
       "..   ...                                 ...   \n",
       "150  245  https://stocktwits.com/message/245   \n",
       "151  246  https://stocktwits.com/message/246   \n",
       "152  247  https://stocktwits.com/message/247   \n",
       "153  248  https://stocktwits.com/message/248   \n",
       "154  249  https://stocktwits.com/message/249   \n",
       "\n",
       "                                             twit_text         twit_user  \\\n",
       "0                           Sorry I mean trading $V ;)       @Prospectus   \n",
       "1    Following HEK ($HEK for stocktweets) this morn...       @joshmather   \n",
       "2    Wondering when the $AAPL rocket is going to ta...     @anthonybrown   \n",
       "3    Welcome early adopters! Remember to prefix the...       @Stocktwits   \n",
       "4    My $AAPL puts are now barely profitable.  I st...         @andyswan   \n",
       "..                                                 ...               ...   \n",
       "150  reserved shares of $SPDE $ROYL and $GRO as pos...     @timothysykes   \n",
       "151  $ORCL (22.91) Cowen sees strong fiscal Q4 resu...   @TechStockRadar   \n",
       "152  The Australian Dollar has been my fav currency...  @GregorMacdonald   \n",
       "153      $IDEV getting up on the wrong side of the bed   @whatthetrading   \n",
       "154    $ROYL having a tough time in the premarket also   @whatthetrading   \n",
       "\n",
       "                              twit_user_url  \n",
       "0         https://stocktwits.com/Prospectus  \n",
       "1         https://stocktwits.com/joshmather  \n",
       "2       https://stocktwits.com/anthonybrown  \n",
       "3         https://stocktwits.com/Stocktwits  \n",
       "4           https://stocktwits.com/andyswan  \n",
       "..                                      ...  \n",
       "150     https://stocktwits.com/timothysykes  \n",
       "151   https://stocktwits.com/TechStockRadar  \n",
       "152  https://stocktwits.com/GregorMacdonald  \n",
       "153   https://stocktwits.com/whatthetrading  \n",
       "154   https://stocktwits.com/whatthetrading  \n",
       "\n",
       "[155 rows x 5 columns]"
      ]
     },
     "execution_count": 8,
     "metadata": {},
     "output_type": "execute_result"
    }
   ],
   "source": [
    "import pandas as pd\n",
    "\n",
    "df = pd.read_csv(\"example.csv\")\n",
    "df"
   ]
  },
  {
   "cell_type": "code",
   "execution_count": 9,
   "id": "a52be083",
   "metadata": {},
   "outputs": [
    {
     "data": {
      "text/html": [
       "<div>\n",
       "<style scoped>\n",
       "    .dataframe tbody tr th:only-of-type {\n",
       "        vertical-align: middle;\n",
       "    }\n",
       "\n",
       "    .dataframe tbody tr th {\n",
       "        vertical-align: top;\n",
       "    }\n",
       "\n",
       "    .dataframe thead th {\n",
       "        text-align: right;\n",
       "    }\n",
       "</style>\n",
       "<table border=\"1\" class=\"dataframe\">\n",
       "  <thead>\n",
       "    <tr style=\"text-align: right;\">\n",
       "      <th></th>\n",
       "      <th>id</th>\n",
       "      <th>twit_url</th>\n",
       "      <th>twit_text</th>\n",
       "      <th>twit_user</th>\n",
       "      <th>twit_user_url</th>\n",
       "      <th>score</th>\n",
       "    </tr>\n",
       "  </thead>\n",
       "  <tbody>\n",
       "    <tr>\n",
       "      <th>0</th>\n",
       "      <td>4</td>\n",
       "      <td>https://stocktwits.com/message/4</td>\n",
       "      <td>Sorry I mean trading $V ;)</td>\n",
       "      <td>@Prospectus</td>\n",
       "      <td>https://stocktwits.com/Prospectus</td>\n",
       "      <td>0.000000</td>\n",
       "    </tr>\n",
       "    <tr>\n",
       "      <th>1</th>\n",
       "      <td>5</td>\n",
       "      <td>https://stocktwits.com/message/5</td>\n",
       "      <td>Following HEK ($HEK for stocktweets) this morn...</td>\n",
       "      <td>@joshmather</td>\n",
       "      <td>https://stocktwits.com/joshmather</td>\n",
       "      <td>0.000000</td>\n",
       "    </tr>\n",
       "    <tr>\n",
       "      <th>2</th>\n",
       "      <td>6</td>\n",
       "      <td>https://stocktwits.com/message/6</td>\n",
       "      <td>Wondering when the $AAPL rocket is going to ta...</td>\n",
       "      <td>@anthonybrown</td>\n",
       "      <td>https://stocktwits.com/anthonybrown</td>\n",
       "      <td>0.000000</td>\n",
       "    </tr>\n",
       "    <tr>\n",
       "      <th>3</th>\n",
       "      <td>7</td>\n",
       "      <td>https://stocktwits.com/message/7</td>\n",
       "      <td>Welcome early adopters! Remember to prefix the...</td>\n",
       "      <td>@Stocktwits</td>\n",
       "      <td>https://stocktwits.com/Stocktwits</td>\n",
       "      <td>0.000000</td>\n",
       "    </tr>\n",
       "    <tr>\n",
       "      <th>4</th>\n",
       "      <td>9</td>\n",
       "      <td>https://stocktwits.com/message/9</td>\n",
       "      <td>My $AAPL puts are now barely profitable.  I st...</td>\n",
       "      <td>@andyswan</td>\n",
       "      <td>https://stocktwits.com/andyswan</td>\n",
       "      <td>0.000000</td>\n",
       "    </tr>\n",
       "    <tr>\n",
       "      <th>...</th>\n",
       "      <td>...</td>\n",
       "      <td>...</td>\n",
       "      <td>...</td>\n",
       "      <td>...</td>\n",
       "      <td>...</td>\n",
       "      <td>...</td>\n",
       "    </tr>\n",
       "    <tr>\n",
       "      <th>150</th>\n",
       "      <td>245</td>\n",
       "      <td>https://stocktwits.com/message/245</td>\n",
       "      <td>reserved shares of $SPDE $ROYL and $GRO as pos...</td>\n",
       "      <td>@timothysykes</td>\n",
       "      <td>https://stocktwits.com/timothysykes</td>\n",
       "      <td>3.344230</td>\n",
       "    </tr>\n",
       "    <tr>\n",
       "      <th>151</th>\n",
       "      <td>246</td>\n",
       "      <td>https://stocktwits.com/message/246</td>\n",
       "      <td>$ORCL (22.91) Cowen sees strong fiscal Q4 resu...</td>\n",
       "      <td>@TechStockRadar</td>\n",
       "      <td>https://stocktwits.com/TechStockRadar</td>\n",
       "      <td>0.000000</td>\n",
       "    </tr>\n",
       "    <tr>\n",
       "      <th>152</th>\n",
       "      <td>247</td>\n",
       "      <td>https://stocktwits.com/message/247</td>\n",
       "      <td>The Australian Dollar has been my fav currency...</td>\n",
       "      <td>@GregorMacdonald</td>\n",
       "      <td>https://stocktwits.com/GregorMacdonald</td>\n",
       "      <td>0.000000</td>\n",
       "    </tr>\n",
       "    <tr>\n",
       "      <th>153</th>\n",
       "      <td>248</td>\n",
       "      <td>https://stocktwits.com/message/248</td>\n",
       "      <td>$IDEV getting up on the wrong side of the bed</td>\n",
       "      <td>@whatthetrading</td>\n",
       "      <td>https://stocktwits.com/whatthetrading</td>\n",
       "      <td>0.000000</td>\n",
       "    </tr>\n",
       "    <tr>\n",
       "      <th>154</th>\n",
       "      <td>249</td>\n",
       "      <td>https://stocktwits.com/message/249</td>\n",
       "      <td>$ROYL having a tough time in the premarket also</td>\n",
       "      <td>@whatthetrading</td>\n",
       "      <td>https://stocktwits.com/whatthetrading</td>\n",
       "      <td>9.298886</td>\n",
       "    </tr>\n",
       "  </tbody>\n",
       "</table>\n",
       "<p>155 rows × 6 columns</p>\n",
       "</div>"
      ],
      "text/plain": [
       "      id                            twit_url  \\\n",
       "0      4    https://stocktwits.com/message/4   \n",
       "1      5    https://stocktwits.com/message/5   \n",
       "2      6    https://stocktwits.com/message/6   \n",
       "3      7    https://stocktwits.com/message/7   \n",
       "4      9    https://stocktwits.com/message/9   \n",
       "..   ...                                 ...   \n",
       "150  245  https://stocktwits.com/message/245   \n",
       "151  246  https://stocktwits.com/message/246   \n",
       "152  247  https://stocktwits.com/message/247   \n",
       "153  248  https://stocktwits.com/message/248   \n",
       "154  249  https://stocktwits.com/message/249   \n",
       "\n",
       "                                             twit_text         twit_user  \\\n",
       "0                           Sorry I mean trading $V ;)       @Prospectus   \n",
       "1    Following HEK ($HEK for stocktweets) this morn...       @joshmather   \n",
       "2    Wondering when the $AAPL rocket is going to ta...     @anthonybrown   \n",
       "3    Welcome early adopters! Remember to prefix the...       @Stocktwits   \n",
       "4    My $AAPL puts are now barely profitable.  I st...         @andyswan   \n",
       "..                                                 ...               ...   \n",
       "150  reserved shares of $SPDE $ROYL and $GRO as pos...     @timothysykes   \n",
       "151  $ORCL (22.91) Cowen sees strong fiscal Q4 resu...   @TechStockRadar   \n",
       "152  The Australian Dollar has been my fav currency...  @GregorMacdonald   \n",
       "153      $IDEV getting up on the wrong side of the bed   @whatthetrading   \n",
       "154    $ROYL having a tough time in the premarket also   @whatthetrading   \n",
       "\n",
       "                              twit_user_url     score  \n",
       "0         https://stocktwits.com/Prospectus  0.000000  \n",
       "1         https://stocktwits.com/joshmather  0.000000  \n",
       "2       https://stocktwits.com/anthonybrown  0.000000  \n",
       "3         https://stocktwits.com/Stocktwits  0.000000  \n",
       "4           https://stocktwits.com/andyswan  0.000000  \n",
       "..                                      ...       ...  \n",
       "150     https://stocktwits.com/timothysykes  3.344230  \n",
       "151   https://stocktwits.com/TechStockRadar  0.000000  \n",
       "152  https://stocktwits.com/GregorMacdonald  0.000000  \n",
       "153   https://stocktwits.com/whatthetrading  0.000000  \n",
       "154   https://stocktwits.com/whatthetrading  9.298886  \n",
       "\n",
       "[155 rows x 6 columns]"
      ]
     },
     "execution_count": 9,
     "metadata": {},
     "output_type": "execute_result"
    }
   ],
   "source": [
    "algo = SearchAlgorithm()\n",
    "algo.update_ranker(df.twit_text, k1=1.5, b=0.75, epsilon=0.25)\n",
    "\n",
    "query = \"$ROYL premarket\"\n",
    "\n",
    "df[\"score\"] = algo.get_scores(query)  # We need to use get_scores() to handle index.\n",
    "df"
   ]
  },
  {
   "cell_type": "code",
   "execution_count": 10,
   "id": "eb78a15f",
   "metadata": {},
   "outputs": [
    {
     "data": {
      "text/html": [
       "<div>\n",
       "<style scoped>\n",
       "    .dataframe tbody tr th:only-of-type {\n",
       "        vertical-align: middle;\n",
       "    }\n",
       "\n",
       "    .dataframe tbody tr th {\n",
       "        vertical-align: top;\n",
       "    }\n",
       "\n",
       "    .dataframe thead th {\n",
       "        text-align: right;\n",
       "    }\n",
       "</style>\n",
       "<table border=\"1\" class=\"dataframe\">\n",
       "  <thead>\n",
       "    <tr style=\"text-align: right;\">\n",
       "      <th></th>\n",
       "      <th>id</th>\n",
       "      <th>twit_url</th>\n",
       "      <th>twit_text</th>\n",
       "      <th>twit_user</th>\n",
       "      <th>twit_user_url</th>\n",
       "      <th>score</th>\n",
       "    </tr>\n",
       "  </thead>\n",
       "  <tbody>\n",
       "    <tr>\n",
       "      <th>154</th>\n",
       "      <td>249</td>\n",
       "      <td>https://stocktwits.com/message/249</td>\n",
       "      <td>$ROYL having a tough time in the premarket also</td>\n",
       "      <td>@whatthetrading</td>\n",
       "      <td>https://stocktwits.com/whatthetrading</td>\n",
       "      <td>9.298886</td>\n",
       "    </tr>\n",
       "    <tr>\n",
       "      <th>146</th>\n",
       "      <td>239</td>\n",
       "      <td>https://stocktwits.com/message/239</td>\n",
       "      <td>still having fun with $ROYL and $SPF</td>\n",
       "      <td>@whatthetrading</td>\n",
       "      <td>https://stocktwits.com/whatthetrading</td>\n",
       "      <td>4.206612</td>\n",
       "    </tr>\n",
       "    <tr>\n",
       "      <th>150</th>\n",
       "      <td>245</td>\n",
       "      <td>https://stocktwits.com/message/245</td>\n",
       "      <td>reserved shares of $SPDE $ROYL and $GRO as pos...</td>\n",
       "      <td>@timothysykes</td>\n",
       "      <td>https://stocktwits.com/timothysykes</td>\n",
       "      <td>3.344230</td>\n",
       "    </tr>\n",
       "  </tbody>\n",
       "</table>\n",
       "</div>"
      ],
      "text/plain": [
       "      id                            twit_url  \\\n",
       "154  249  https://stocktwits.com/message/249   \n",
       "146  239  https://stocktwits.com/message/239   \n",
       "150  245  https://stocktwits.com/message/245   \n",
       "\n",
       "                                             twit_text        twit_user  \\\n",
       "154    $ROYL having a tough time in the premarket also  @whatthetrading   \n",
       "146               still having fun with $ROYL and $SPF  @whatthetrading   \n",
       "150  reserved shares of $SPDE $ROYL and $GRO as pos...    @timothysykes   \n",
       "\n",
       "                             twit_user_url     score  \n",
       "154  https://stocktwits.com/whatthetrading  9.298886  \n",
       "146  https://stocktwits.com/whatthetrading  4.206612  \n",
       "150    https://stocktwits.com/timothysykes  3.344230  "
      ]
     },
     "execution_count": 10,
     "metadata": {},
     "output_type": "execute_result"
    }
   ],
   "source": [
    "TOP_N = 3\n",
    "search_result = df.sort_values(by=['score'], ascending=False)[:TOP_N]\n",
    "search_result"
   ]
  },
  {
   "cell_type": "markdown",
   "id": "4fc32101",
   "metadata": {},
   "source": [
    "## 3.3 Handling JSON"
   ]
  },
  {
   "cell_type": "markdown",
   "id": "6ab23418",
   "metadata": {},
   "source": [
    "### 3.3.1 Converting to an array of JSON objects"
   ]
  },
  {
   "cell_type": "code",
   "execution_count": 11,
   "id": "34a74a9f",
   "metadata": {},
   "outputs": [
    {
     "name": "stdout",
     "output_type": "stream",
     "text": [
      "[\n",
      "    {\n",
      "        \"id\": 249,\n",
      "        \"twit_url\": \"https://stocktwits.com/message/249\",\n",
      "        \"twit_text\": \"$ROYL having a tough time in the premarket also\",\n",
      "        \"twit_user\": \"@whatthetrading\",\n",
      "        \"twit_user_url\": \"https://stocktwits.com/whatthetrading\",\n",
      "        \"score\": 9.2988858551\n",
      "    },\n",
      "    {\n",
      "        \"id\": 239,\n",
      "        \"twit_url\": \"https://stocktwits.com/message/239\",\n",
      "        \"twit_text\": \"still having fun with $ROYL and $SPF\",\n",
      "        \"twit_user\": \"@whatthetrading\",\n",
      "        \"twit_user_url\": \"https://stocktwits.com/whatthetrading\",\n",
      "        \"score\": 4.2066119468\n",
      "    },\n",
      "    {\n",
      "        \"id\": 245,\n",
      "        \"twit_url\": \"https://stocktwits.com/message/245\",\n",
      "        \"twit_text\": \"reserved shares of $SPDE $ROYL and $GRO as possible shorts for later today\",\n",
      "        \"twit_user\": \"@timothysykes\",\n",
      "        \"twit_user_url\": \"https://stocktwits.com/timothysykes\",\n",
      "        \"score\": 3.3442297092\n",
      "    }\n",
      "]\n"
     ]
    }
   ],
   "source": [
    "import json\n",
    "\n",
    "array_of_json = json.loads(search_result.to_json(orient=\"records\"))\n",
    "\n",
    "indented_str = json.dumps(array_of_json, indent=4)\n",
    "print(indented_str)"
   ]
  },
  {
   "cell_type": "code",
   "execution_count": 12,
   "id": "ef94e05d",
   "metadata": {},
   "outputs": [
    {
     "data": {
      "text/plain": [
       "{'id': 249,\n",
       " 'twit_url': 'https://stocktwits.com/message/249',\n",
       " 'twit_text': '$ROYL having a tough time in the premarket also',\n",
       " 'twit_user': '@whatthetrading',\n",
       " 'twit_user_url': 'https://stocktwits.com/whatthetrading',\n",
       " 'score': 9.2988858551}"
      ]
     },
     "execution_count": 12,
     "metadata": {},
     "output_type": "execute_result"
    }
   ],
   "source": [
    "array_of_json[0]"
   ]
  },
  {
   "cell_type": "code",
   "execution_count": 13,
   "id": "3e4669b6",
   "metadata": {},
   "outputs": [
    {
     "data": {
      "text/plain": [
       "{'id': 239,\n",
       " 'twit_url': 'https://stocktwits.com/message/239',\n",
       " 'twit_text': 'still having fun with $ROYL and $SPF',\n",
       " 'twit_user': '@whatthetrading',\n",
       " 'twit_user_url': 'https://stocktwits.com/whatthetrading',\n",
       " 'score': 4.2066119468}"
      ]
     },
     "execution_count": 13,
     "metadata": {},
     "output_type": "execute_result"
    }
   ],
   "source": [
    "array_of_json[1]"
   ]
  },
  {
   "cell_type": "code",
   "execution_count": 14,
   "id": "7c15c0d3",
   "metadata": {},
   "outputs": [
    {
     "data": {
      "text/plain": [
       "{'id': 245,\n",
       " 'twit_url': 'https://stocktwits.com/message/245',\n",
       " 'twit_text': 'reserved shares of $SPDE $ROYL and $GRO as possible shorts for later today',\n",
       " 'twit_user': '@timothysykes',\n",
       " 'twit_user_url': 'https://stocktwits.com/timothysykes',\n",
       " 'score': 3.3442297092}"
      ]
     },
     "execution_count": 14,
     "metadata": {},
     "output_type": "execute_result"
    }
   ],
   "source": [
    "array_of_json[2]"
   ]
  },
  {
   "cell_type": "markdown",
   "id": "88637643",
   "metadata": {},
   "source": [
    "### 3.3.2 Write JSON File"
   ]
  },
  {
   "cell_type": "code",
   "execution_count": 15,
   "id": "3af72171",
   "metadata": {},
   "outputs": [],
   "source": [
    "file_path = \"example.json\""
   ]
  },
  {
   "cell_type": "code",
   "execution_count": 16,
   "id": "5921a77d",
   "metadata": {},
   "outputs": [],
   "source": [
    "with open(file_path, 'w') as outfile:\n",
    "    json.dump(array_of_json, outfile)"
   ]
  },
  {
   "cell_type": "markdown",
   "id": "b52e0fdf",
   "metadata": {},
   "source": [
    "### 3.3.3 Converting to DataFrame again"
   ]
  },
  {
   "cell_type": "code",
   "execution_count": 17,
   "id": "60fb84f9",
   "metadata": {},
   "outputs": [],
   "source": [
    "with open(file_path, \"r\") as json_file:\n",
    "    json_from_file = json.load(json_file)"
   ]
  },
  {
   "cell_type": "code",
   "execution_count": 18,
   "id": "3c653f4f",
   "metadata": {},
   "outputs": [
    {
     "data": {
      "text/plain": [
       "[{'id': 249,\n",
       "  'twit_url': 'https://stocktwits.com/message/249',\n",
       "  'twit_text': '$ROYL having a tough time in the premarket also',\n",
       "  'twit_user': '@whatthetrading',\n",
       "  'twit_user_url': 'https://stocktwits.com/whatthetrading',\n",
       "  'score': 9.2988858551},\n",
       " {'id': 239,\n",
       "  'twit_url': 'https://stocktwits.com/message/239',\n",
       "  'twit_text': 'still having fun with $ROYL and $SPF',\n",
       "  'twit_user': '@whatthetrading',\n",
       "  'twit_user_url': 'https://stocktwits.com/whatthetrading',\n",
       "  'score': 4.2066119468},\n",
       " {'id': 245,\n",
       "  'twit_url': 'https://stocktwits.com/message/245',\n",
       "  'twit_text': 'reserved shares of $SPDE $ROYL and $GRO as possible shorts for later today',\n",
       "  'twit_user': '@timothysykes',\n",
       "  'twit_user_url': 'https://stocktwits.com/timothysykes',\n",
       "  'score': 3.3442297092}]"
      ]
     },
     "execution_count": 18,
     "metadata": {},
     "output_type": "execute_result"
    }
   ],
   "source": [
    "json_from_file"
   ]
  },
  {
   "cell_type": "code",
   "execution_count": 19,
   "id": "0422d22c",
   "metadata": {},
   "outputs": [
    {
     "data": {
      "text/html": [
       "<div>\n",
       "<style scoped>\n",
       "    .dataframe tbody tr th:only-of-type {\n",
       "        vertical-align: middle;\n",
       "    }\n",
       "\n",
       "    .dataframe tbody tr th {\n",
       "        vertical-align: top;\n",
       "    }\n",
       "\n",
       "    .dataframe thead th {\n",
       "        text-align: right;\n",
       "    }\n",
       "</style>\n",
       "<table border=\"1\" class=\"dataframe\">\n",
       "  <thead>\n",
       "    <tr style=\"text-align: right;\">\n",
       "      <th></th>\n",
       "      <th>id</th>\n",
       "      <th>twit_url</th>\n",
       "      <th>twit_text</th>\n",
       "      <th>twit_user</th>\n",
       "      <th>twit_user_url</th>\n",
       "      <th>score</th>\n",
       "    </tr>\n",
       "  </thead>\n",
       "  <tbody>\n",
       "    <tr>\n",
       "      <th>0</th>\n",
       "      <td>249</td>\n",
       "      <td>https://stocktwits.com/message/249</td>\n",
       "      <td>$ROYL having a tough time in the premarket also</td>\n",
       "      <td>@whatthetrading</td>\n",
       "      <td>https://stocktwits.com/whatthetrading</td>\n",
       "      <td>9.298886</td>\n",
       "    </tr>\n",
       "    <tr>\n",
       "      <th>1</th>\n",
       "      <td>239</td>\n",
       "      <td>https://stocktwits.com/message/239</td>\n",
       "      <td>still having fun with $ROYL and $SPF</td>\n",
       "      <td>@whatthetrading</td>\n",
       "      <td>https://stocktwits.com/whatthetrading</td>\n",
       "      <td>4.206612</td>\n",
       "    </tr>\n",
       "    <tr>\n",
       "      <th>2</th>\n",
       "      <td>245</td>\n",
       "      <td>https://stocktwits.com/message/245</td>\n",
       "      <td>reserved shares of $SPDE $ROYL and $GRO as pos...</td>\n",
       "      <td>@timothysykes</td>\n",
       "      <td>https://stocktwits.com/timothysykes</td>\n",
       "      <td>3.344230</td>\n",
       "    </tr>\n",
       "  </tbody>\n",
       "</table>\n",
       "</div>"
      ],
      "text/plain": [
       "    id                            twit_url  \\\n",
       "0  249  https://stocktwits.com/message/249   \n",
       "1  239  https://stocktwits.com/message/239   \n",
       "2  245  https://stocktwits.com/message/245   \n",
       "\n",
       "                                           twit_text        twit_user  \\\n",
       "0    $ROYL having a tough time in the premarket also  @whatthetrading   \n",
       "1               still having fun with $ROYL and $SPF  @whatthetrading   \n",
       "2  reserved shares of $SPDE $ROYL and $GRO as pos...    @timothysykes   \n",
       "\n",
       "                           twit_user_url     score  \n",
       "0  https://stocktwits.com/whatthetrading  9.298886  \n",
       "1  https://stocktwits.com/whatthetrading  4.206612  \n",
       "2    https://stocktwits.com/timothysykes  3.344230  "
      ]
     },
     "execution_count": 19,
     "metadata": {},
     "output_type": "execute_result"
    }
   ],
   "source": [
    "df_from_file = pd.DataFrame(json_from_file)\n",
    "df_from_file"
   ]
  }
 ],
 "metadata": {
  "kernelspec": {
   "display_name": "Python 3 (ipykernel)",
   "language": "python",
   "name": "python3"
  },
  "language_info": {
   "codemirror_mode": {
    "name": "ipython",
    "version": 3
   },
   "file_extension": ".py",
   "mimetype": "text/x-python",
   "name": "python",
   "nbconvert_exporter": "python",
   "pygments_lexer": "ipython3",
   "version": "3.7.0"
  }
 },
 "nbformat": 4,
 "nbformat_minor": 5
}
