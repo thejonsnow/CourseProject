{
 "cells": [
  {
   "cell_type": "code",
   "execution_count": null,
   "metadata": {},
   "outputs": [],
   "source": [
    "pip install requests bs4 pandas firebase-admin"
   ]
  },
  {
   "cell_type": "code",
   "execution_count": 24,
   "metadata": {},
   "outputs": [],
   "source": [
    "import requests\n",
    "from bs4 import BeautifulSoup\n",
    "import pandas as pd\n",
    "import firebase_admin\n",
    "from firebase_admin import credentials\n",
    "from firebase_admin import firestore"
   ]
  },
  {
   "cell_type": "markdown",
   "metadata": {},
   "source": [
    "Initialize Firestore DB"
   ]
  },
  {
   "cell_type": "code",
   "execution_count": 26,
   "metadata": {},
   "outputs": [],
   "source": [
    "#load in firestore credentials\n",
    "# https://firebase.google.com/docs/firestore/quickstart\n",
    "# DON\"T FORGET TO DELETE THE PATH WHEN PUSHING TO GITHUB!!!!\n",
    "cred = credentials.Certificate('PATH_TO_FIRESTORE_KEY')\n",
    "app = firebase_admin.initialize_app(cred)\n",
    "db = firestore.client()"
   ]
  },
  {
   "cell_type": "markdown",
   "metadata": {},
   "source": [
    "This is what I would be storing for each twit"
   ]
  },
  {
   "cell_type": "code",
   "execution_count": 27,
   "metadata": {},
   "outputs": [
    {
     "name": "stdout",
     "output_type": "stream",
     "text": [
      "url:  https://stocktwits.com/message/497084294\n",
      "text:  $SAVA stop loss raid this afternoon was great buying opportunity loaded shares under $30!\n",
      "user:  @CaymanSlushFund\n",
      "userUrl: https://stocktwits.com/CaymanSlushFund\n"
     ]
    }
   ],
   "source": [
    "twit_url = \"https://stocktwits.com/message/497084294\"\n",
    "print('url: ', twit_url)\n",
    "page = requests.get(twit_url)\n",
    "soup = BeautifulSoup(page.content, 'html.parser')\n",
    "twit_text = str(soup.head.find(\"meta\", attrs={\"name\" : \"description\"})[\"content\"])\n",
    "print('text: ', twit_text)\n",
    "twit_user = str(soup.head.find(\"meta\", attrs={\"name\" : \"twitter:title\"})[\"content\"]).replace(' | Stocktwits','')\n",
    "print('user: ', twit_user)\n",
    "print('userUrl: https://stocktwits.com/'+twit_user.replace('@',''))"
   ]
  },
  {
   "cell_type": "markdown",
   "metadata": {},
   "source": [
    "Example on how to get data - get our index flag for last message scraped"
   ]
  },
  {
   "cell_type": "code",
   "execution_count": 34,
   "metadata": {},
   "outputs": [
    {
     "name": "stdout",
     "output_type": "stream",
     "text": [
      "Document data: {'testIndex': 1, 'index': 0}\n"
     ]
    }
   ],
   "source": [
    "# we would first start by retrieving the last good message id\n",
    "doc_ref = db.collection(u'twit').document(u'startIndex')\n",
    "# https://firebase.google.com/docs/firestore/query-data/get-data\n",
    "doc = doc_ref.get()\n",
    "if doc.exists:\n",
    "    print(f'Document data: {doc.to_dict()}')\n",
    "else:\n",
    "    print(u'No such document!')"
   ]
  },
  {
   "cell_type": "markdown",
   "metadata": {},
   "source": [
    "Example on how to push data - updating our index flag"
   ]
  },
  {
   "cell_type": "code",
   "execution_count": 35,
   "metadata": {},
   "outputs": [
    {
     "data": {
      "text/plain": [
       "update_time {\n",
       "  seconds: 1668814840\n",
       "  nanos: 26139000\n",
       "}"
      ]
     },
     "execution_count": 35,
     "metadata": {},
     "output_type": "execute_result"
    }
   ],
   "source": [
    "data = {\n",
    "    u'testIndex': 10,\n",
    "}\n",
    "# https://firebase.google.com/docs/firestore/manage-data/add-data\n",
    "# Updating our doc_ref from above to whatever we specify in data.index\n",
    "doc_ref.set(data, merge=True)\n",
    "# Check if it worked by replaying above get data example and see if it changed"
   ]
  },
  {
   "cell_type": "markdown",
   "metadata": {},
   "source": [
    "Next steps for creating the actual scraper:\n",
    "1. Loop through starting at index\n",
    "2. https://stocktwits.com/message/# -> # should be the index\n",
    "3. Use bs4 and add current data to csv as new row\n",
    "4. End loop when no more new messages ~ will need to talk with team on how to determine this\n",
    "5. Update index to what first bad index was\n",
    "6. Push csv to storage - I will add this code in soon\n",
    "7. End"
   ]
  }
 ],
 "metadata": {
  "kernelspec": {
   "display_name": "Python 3.7.9 32-bit",
   "language": "python",
   "name": "python3"
  },
  "language_info": {
   "codemirror_mode": {
    "name": "ipython",
    "version": 3
   },
   "file_extension": ".py",
   "mimetype": "text/x-python",
   "name": "python",
   "nbconvert_exporter": "python",
   "pygments_lexer": "ipython3",
   "version": "3.7.9"
  },
  "orig_nbformat": 4,
  "vscode": {
   "interpreter": {
    "hash": "e50dc8488029f96428793669918385f9dfe9ccd1ee63fdcf1feb04d8da3685d6"
   }
  }
 },
 "nbformat": 4,
 "nbformat_minor": 2
}
