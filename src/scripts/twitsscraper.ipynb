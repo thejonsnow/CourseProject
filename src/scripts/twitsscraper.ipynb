{
 "cells": [
  {
   "cell_type": "code",
   "execution_count": null,
   "metadata": {},
   "outputs": [],
   "source": [
    "pip install requests bs4 pandas firebase-admin"
   ]
  },
  {
   "cell_type": "code",
   "execution_count": 16,
   "metadata": {},
   "outputs": [],
   "source": [
    "import requests\n",
    "from bs4 import BeautifulSoup\n",
    "import pandas as pd\n",
    "import firebase_admin\n",
    "from firebase_admin import credentials\n",
    "from firebase_admin import firestore\n",
    "import csv\n",
    "import json"
   ]
  },
  {
   "cell_type": "markdown",
   "metadata": {},
   "source": [
    "Initialize Firestore DB"
   ]
  },
  {
   "cell_type": "code",
   "execution_count": 3,
   "metadata": {},
   "outputs": [],
   "source": [
    "#load in firestore credentials\n",
    "# https://firebase.google.com/docs/firestore/quickstart\n",
    "# DON\"T FORGET TO DELETE THE PATH WHEN PUSHING TO GITHUB!!!!\n",
    "cred = credentials.Certificate('PATH_TO_FIRESTORE_KEY')\n",
    "app = firebase_admin.initialize_app(cred)\n",
    "db = firestore.client()"
   ]
  },
  {
   "cell_type": "markdown",
   "metadata": {},
   "source": [
    "This is what I would be storing for each twit"
   ]
  },
  {
   "cell_type": "code",
   "execution_count": 7,
   "metadata": {},
   "outputs": [
    {
     "name": "stdout",
     "output_type": "stream",
     "text": [
      "url:  https://stocktwits.com/user/message/497084294\n",
      "text:  $SAVA stop loss raid this afternoon was great buying opportunity loaded shares under $30!\n",
      "user:  $SAVA stop loss raid this afternoon was great buying opportunity loaded shares under $30!\n",
      "userUrl: https://stocktwits.com/$SAVA stop loss raid this afternoon was great buying opportunity loaded shares under $30!\n"
     ]
    }
   ],
   "source": [
    "twit_url = \"https://stocktwits.com/user/message/497084294\"\n",
    "print('url: ', twit_url)\n",
    "page = requests.get(twit_url)\n",
    "soup = BeautifulSoup(page.content, 'html.parser')\n",
    "twit_text = str(soup.head.find(\"meta\", attrs={\"name\" : \"description\"})[\"content\"])\n",
    "print('text: ', twit_text)\n",
    "twit_user = str(soup.head.find(\"meta\", attrs={\"name\" : \"twitter:title\"})[\"content\"]).replace(' | Stocktwits','')\n",
    "print('user: ', twit_user)\n",
    "print('userUrl: https://stocktwits.com/'+twit_user.replace('@',''))"
   ]
  },
  {
   "cell_type": "code",
   "execution_count": 23,
   "metadata": {},
   "outputs": [
    {
     "name": "stdout",
     "output_type": "stream",
     "text": [
      "url:  https://stocktwits.com/user/message/497084294\n",
      "{'id': 497084294, 'body': '$SAVA stop loss raid this afternoon was great buying opportunity loaded shares under $30!', 'created_at': '2022-11-18T21:17:30Z', 'user': {'id': 3011634, 'username': 'CaymanSlushFund', 'name': 'Cayman Slush Fund', 'avatar_url': 'https://avatars.stocktwits.com/production/3011634/thumb-1578414526.png', 'avatar_url_ssl': 'https://avatars.stocktwits.com/production/3011634/thumb-1578414526.png', 'join_date': '2020-01-07', 'official': False, 'identity': 'User', 'classification': [], 'search_regions': [], 'followers': 296, 'following': 473, 'ideas': 1935, 'watchlist_stocks_count': 178, 'like_count': 946, 'plus_tier': '', 'premium_room': '', 'trade_app': False, 'trade_status': 'PENDING_MFA', 'subscribers_count': 39, 'subscribed_to_count': 55, 'following_stocks': 0, 'location': '', 'bio': None, 'website_url': None, 'trading_strategy': {'assets_frequently_traded': ['Equities', 'Options'], 'approach': 'Growth', 'holding_period': 'Day Trader', 'experience': 'Professional'}}, 'source': {'id': 1149, 'title': 'StockTwits for iOS', 'url': 'http://www.stocktwits.com/mobile'}, 'symbols': [{'id': 3258, 'symbol': 'SAVA', 'title': 'Cassava Sciences Inc', 'aliases': ['PTIE'], 'is_following': False, 'watchlist_count': 49085, 'has_pricing': True, 'exchange': 'NASDAQ', 'sector': 'HealthTechnology', 'industry': 'Biotechnology', 'logo_url': 'http://logos.xignite.com/NASDAQGM/00048445.gif', 'trending': False, 'trending_score': 0.491283, 'trade_status': 'FRACTIONAL'}], 'prices': [{'id': 3258, 'symbol': 'SAVA', 'price': '33.12', 'current_price': '35.74', 'change_since_message': '2.62', 'percent_change_since_message': '7.91', 'exchange': 'NASDAQ'}], 'likes': {'total': 3, 'recent': [{'id': 1717498, 'username': 'Cutlass', 'name': 'Rachel Martens', 'avatar_url': 'https://avatars.stocktwits.com/production/1717498/thumb-1596491532.png?1596491532', 'avatar_url_ssl': 'https://avatars.stocktwits.com/production/1717498/thumb-1596491532.png?1596491532'}, {'id': 199830, 'username': 'LifeSVR', 'name': 'DavidD', 'avatar_url': 'https://avatars.stocktwits.com/production/199830/thumb-1354913676.png?1354913676', 'avatar_url_ssl': 'https://avatars.stocktwits.com/production/199830/thumb-1354913676.png?1354913676'}, {'id': 6322901, 'username': 'Mattyice81', 'name': 'Matt', 'avatar_url': 'https://avatars.stocktwits.com/images/default_avatar_thumb.jpg', 'avatar_url_ssl': 'https://avatars.stocktwits.com/images/default_avatar_thumb.jpg'}], 'user_ids': [1717498, 6322901, 199830]}, 'mentioned_users': [], 'entities': {'sentiment': {'basic': 'Bullish'}}}\n",
      "text:  $SAVA stop loss raid this afternoon was great buying opportunity loaded shares under $30!\n",
      "user:  $SAVA stop loss raid this afternoon was great buying opportunity loaded shares under $30!\n",
      "userUrl: https://stocktwits.com/$SAVA stop loss raid this afternoon was great buying opportunity loaded shares under $30!\n"
     ]
    }
   ],
   "source": [
    "twit_url = \"https://stocktwits.com/user/message/497084294\"\n",
    "print('url: ', twit_url)\n",
    "page = requests.get(twit_url)\n",
    "soup = BeautifulSoup(page.content, 'html.parser')\n",
    "twit_text = soup.body.find(\"script\", attrs={\"id\" : \"__NEXT_DATA__\"}).string\n",
    "twit_json = json.loads(twit_text)\n",
    "# print(twit_json)\n",
    "print(twit_json['props']['pageProps']['initialData']['message'])\n",
    "twit_text = str(soup.head.find(\"meta\", attrs={\"name\" : \"description\"})[\"content\"])\n",
    "print('text: ', twit_text)\n",
    "twit_user = str(soup.head.find(\"meta\", attrs={\"name\" : \"twitter:title\"})[\"content\"]).replace(' | Stocktwits','')\n",
    "print('user: ', twit_user)\n",
    "print('userUrl: https://stocktwits.com/'+twit_user.replace('@',''))"
   ]
  },
  {
   "cell_type": "markdown",
   "metadata": {},
   "source": [
    "Example on how to get data - get our index flag for last message scraped"
   ]
  },
  {
   "cell_type": "code",
   "execution_count": 34,
   "metadata": {},
   "outputs": [
    {
     "name": "stdout",
     "output_type": "stream",
     "text": [
      "Document data: {'testIndex': 1, 'index': 0}\n"
     ]
    }
   ],
   "source": [
    "# we would first start by retrieving the last good message id\n",
    "doc_ref = db.collection(u'twit').document(u'startIndex')\n",
    "# https://firebase.google.com/docs/firestore/query-data/get-data\n",
    "doc = doc_ref.get()\n",
    "if doc.exists:\n",
    "    print(f'Document data: {doc.to_dict()}')\n",
    "else:\n",
    "    print(u'No such document!')"
   ]
  },
  {
   "cell_type": "markdown",
   "metadata": {},
   "source": [
    "Example on how to push data - updating our index flag"
   ]
  },
  {
   "cell_type": "code",
   "execution_count": 35,
   "metadata": {},
   "outputs": [
    {
     "data": {
      "text/plain": [
       "update_time {\n",
       "  seconds: 1668814840\n",
       "  nanos: 26139000\n",
       "}"
      ]
     },
     "execution_count": 35,
     "metadata": {},
     "output_type": "execute_result"
    }
   ],
   "source": [
    "data = {\n",
    "    u'testIndex': 10,\n",
    "}\n",
    "# https://firebase.google.com/docs/firestore/manage-data/add-data\n",
    "# Updating our doc_ref from above to whatever we specify in data.index\n",
    "doc_ref.set(data, merge=True)\n",
    "# Check if it worked by replaying above get data example and see if it changed"
   ]
  },
  {
   "cell_type": "markdown",
   "metadata": {},
   "source": [
    "Next steps for creating the actual scraper:\n",
    "1. Loop through starting at index\n",
    "2. https://stocktwits.com/message/# -> # should be the index\n",
    "3. Use bs4 and add current data to csv as new row\n",
    "4. End loop when no more new messages ~ will need to talk with team on how to determine this\n",
    "5. Update index to what first bad index was\n",
    "6. Push csv to storage - I will add this code in soon\n",
    "7. End"
   ]
  },
  {
   "cell_type": "code",
   "execution_count": 10,
   "metadata": {},
   "outputs": [],
   "source": [
    "#this is example\n",
    "headers = ['id', 'twit_url', 'twit_text', 'twit_user', 'twit_user_url']\n",
    "data = []\n",
    "#change range for more samples if needed\n",
    "for i in range(250):\n",
    "    twit_url = \"https://stocktwits.com/message/\" + str(i)\n",
    "    page = requests.get(twit_url)\n",
    "    soup = BeautifulSoup(page.content, 'html.parser')\n",
    "    twit_text = str(soup.head.find(\"meta\", attrs={\"name\" : \"description\"})[\"content\"]).replace(',','')\n",
    "    twit_user = str(soup.head.find(\"meta\", attrs={\"name\" : \"twitter:title\"})[\"content\"]).replace(' | Stocktwits','')\n",
    "    twit_user_url = 'https://stocktwits.com/'+twit_user.replace('@','')\n",
    "    if twit_user != '@':\n",
    "        data.append([i, twit_url, twit_text, twit_user, twit_user_url])\n",
    "#change name if wanting multiple example csvs\n",
    "with open('../csv/example.csv', 'w+') as file:\n",
    "    writer = csv.writer(file)\n",
    "    writer.writerow(headers)\n",
    "    writer.writerows(data)"
   ]
  },
  {
   "cell_type": "code",
   "execution_count": 28,
   "metadata": {},
   "outputs": [
    {
     "name": "stdout",
     "output_type": "stream",
     "text": [
      "b'[\\n    {\\n        \"id\": 239,\\n        \"twit_url\": \"https://stocktwits.com/message/239\",\\n        \"twit_text\": \"still having fun with $ROYL and $SPF\",\\n        \"twit_user\": \"@whatthetrading\",\\n        \"twit_user_url\": \"https://stocktwits.com/whatthetrading\",\\n        \"score\": 4.2066119468\\n    },\\n    {\\n        \"id\": 249,\\n        \"twit_url\": \"https://stocktwits.com/message/249\",\\n        \"twit_text\": \"$ROYL having a tough time in the premarket also\",\\n        \"twit_user\": \"@whatthetrading\",\\n        \"twit_user_url\": \"https://stocktwits.com/whatthetrading\",\\n        \"score\": 3.8736441945\\n    },\\n    {\\n        \"id\": 245,\\n        \"twit_url\": \"https://stocktwits.com/message/245\",\\n        \"twit_text\": \"reserved shares of $SPDE $ROYL and $GRO as possible shorts for later today\",\\n        \"twit_user\": \"@timothysykes\",\\n        \"twit_user_url\": \"https://stocktwits.com/timothysykes\",\\n        \"score\": 3.3442297092\\n    }\\n]'\n"
     ]
    }
   ],
   "source": [
    "import json\n",
    "import requests\n",
    "import google.oauth2.id_token\n",
    "import google.auth.transport.requests\n",
    "import urllib\n",
    "import os\n",
    "os.environ[\"GOOGLE_APPLICATION_CREDENTIALS\"] = \"./cred.json\"\n",
    "\n",
    "request = google.auth.transport.requests.Request()\n",
    "audience = 'https://us-central1-cs410-7733e.cloudfunctions.net/function-1'\n",
    "TOKEN = google.oauth2.id_token.fetch_id_token(request, audience)\n",
    "\n",
    "r = requests.post(\n",
    "    'https://us-central1-cs410-7733e.cloudfunctions.net/function-1', \n",
    "    headers={'Authorization': f\"Bearer {TOKEN}\", \"Content-Type\": \"application/json\"},\n",
    "    data=json.dumps({\"query\": \"$ROYL\"})  # possible request parameters\n",
    ")\n",
    "print(r.content)"
   ]
  }
 ],
 "metadata": {
  "kernelspec": {
   "display_name": "Python 3.7.9 64-bit",
   "language": "python",
   "name": "python3"
  },
  "language_info": {
   "codemirror_mode": {
    "name": "ipython",
    "version": 3
   },
   "file_extension": ".py",
   "mimetype": "text/x-python",
   "name": "python",
   "nbconvert_exporter": "python",
   "pygments_lexer": "ipython3",
   "version": "3.7.9"
  },
  "orig_nbformat": 4,
  "vscode": {
   "interpreter": {
    "hash": "bc61d7c2b16617a730c1982ecf2edeca2f22160a4ce5ca5fdaaf9baa76679965"
   }
  }
 },
 "nbformat": 4,
 "nbformat_minor": 2
}
